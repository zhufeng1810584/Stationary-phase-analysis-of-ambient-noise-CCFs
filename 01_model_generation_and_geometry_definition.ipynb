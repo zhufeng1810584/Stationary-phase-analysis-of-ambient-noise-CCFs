{
 "cells": [
  {
   "cell_type": "markdown",
   "metadata": {},
   "source": [
    "# This code is used to generate and display the density models and the observation geometry"
   ]
  },
  {
   "cell_type": "code",
   "execution_count": 1,
   "metadata": {},
   "outputs": [],
   "source": [
    "import numpy as np\n",
    "import matplotlib.pyplot as plt\n",
    "from html.entities import entitydefs"
   ]
  },
  {
   "cell_type": "markdown",
   "metadata": {},
   "source": [
    "## Density model generation"
   ]
  },
  {
   "cell_type": "markdown",
   "metadata": {},
   "source": []
  },
  {
   "cell_type": "code",
   "execution_count": 2,
   "metadata": {},
   "outputs": [
    {
     "ename": "FileNotFoundError",
     "evalue": "[Errno 2] No such file or directory: 'drho.dat'",
     "output_type": "error",
     "traceback": [
      "\u001b[1;31m---------------------------------------------------------------------------\u001b[0m",
      "\u001b[1;31mFileNotFoundError\u001b[0m                         Traceback (most recent call last)",
      "Cell \u001b[1;32mIn[2], line 11\u001b[0m\n\u001b[0;32m      9\u001b[0m Density[\u001b[38;5;241m1\u001b[39m,\u001b[38;5;241m301\u001b[39m,\u001b[38;5;241m151\u001b[39m] \u001b[38;5;241m=\u001b[39m \u001b[38;5;241m9.0\u001b[39m                                                             \u001b[38;5;66;03m# Single point\u001b[39;00m\n\u001b[0;32m     10\u001b[0m Density[\u001b[38;5;241m2\u001b[39m,:,\u001b[38;5;241m151\u001b[39m] \u001b[38;5;241m=\u001b[39m \u001b[38;5;241m9\u001b[39m                                                                 \u001b[38;5;66;03m# Single layer\u001b[39;00m\n\u001b[1;32m---> 11\u001b[0m tmpdata \u001b[38;5;241m=\u001b[39m \u001b[43mnp\u001b[49m\u001b[38;5;241;43m.\u001b[39;49m\u001b[43mfromfile\u001b[49m\u001b[43m(\u001b[49m\u001b[38;5;124;43m'\u001b[39;49m\u001b[38;5;124;43mdrho.dat\u001b[39;49m\u001b[38;5;124;43m'\u001b[39;49m\u001b[43m,\u001b[49m\u001b[43m \u001b[49m\u001b[43mdtype\u001b[49m\u001b[38;5;241;43m=\u001b[39;49m\u001b[43mnp\u001b[49m\u001b[38;5;241;43m.\u001b[39;49m\u001b[43mfloat32\u001b[49m\u001b[43m)\u001b[49m; tmpdata\u001b[38;5;241m.\u001b[39mshape\u001b[38;5;241m=\u001b[39m(Nx, Nz)\n\u001b[0;32m     12\u001b[0m Density[\u001b[38;5;241m3\u001b[39m] \u001b[38;5;241m=\u001b[39m (tmpdata\u001b[38;5;241m-\u001b[39mnp\u001b[38;5;241m.\u001b[39mmin(tmpdata))\u001b[38;5;241m*\u001b[39m\u001b[38;5;241m9.0\u001b[39m\u001b[38;5;241m/\u001b[39m(np\u001b[38;5;241m.\u001b[39mmax(tmpdata) \u001b[38;5;241m-\u001b[39m np\u001b[38;5;241m.\u001b[39mmin(tmpdata)) \u001b[38;5;241m+\u001b[39m \u001b[38;5;241m1\u001b[39m\n",
      "\u001b[1;31mFileNotFoundError\u001b[0m: [Errno 2] No such file or directory: 'drho.dat'"
     ]
    }
   ],
   "source": [
    "# 4 density models (homogeneous,single point, single layer, and random medium) will be generated and used for test\n",
    "\n",
    "Nmodel=4                                                                             # Number of model\n",
    "Nx=501; Nz=501; dx=0.01; dz=0.01;                                                    # Mesh size and spacing  \n",
    "Nt=3000; nt = Nt;  dt=0.002                                                          # Time sampling rate and sampling number\n",
    "\n",
    "Density = np.ones((Nmodel,Nx,Nz))\n",
    "Density[0] = 1                                                                       # Homogeneous\n",
    "Density[1,301,151] = 9.0                                                             # Single point\n",
    "Density[2,:,151] = 9                                                                 # Single layer\n",
    "tmpdata = np.fromfile('drho.dat', dtype=np.float32); tmpdata.shape=(Nx, Nz)\n",
    "Density[3] = (tmpdata-np.min(tmpdata))*9.0/(np.max(tmpdata) - np.min(tmpdata)) + 1   # Random medium"
   ]
  }
 ],
 "metadata": {
  "kernelspec": {
   "display_name": "base",
   "language": "python",
   "name": "python3"
  },
  "language_info": {
   "codemirror_mode": {
    "name": "ipython",
    "version": 3
   },
   "file_extension": ".py",
   "mimetype": "text/x-python",
   "name": "python",
   "nbconvert_exporter": "python",
   "pygments_lexer": "ipython3",
   "version": "3.10.9"
  }
 },
 "nbformat": 4,
 "nbformat_minor": 2
}
